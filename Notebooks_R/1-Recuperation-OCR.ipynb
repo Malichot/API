{
 "cells": [
  {
   "cell_type": "markdown",
   "metadata": {},
   "source": [
    "## Scénario de recherche : récupération des métadonnées et des OCR (API SRU).\n",
    "---\n",
    "\n",
    "**Référence** : Guillaume Pressiat (CHRU Brest)\n",
    "\n",
    "   - Github : [https://github.com/GuillaumePressiat/gargallica](https://github.com/GuillaumePressiat/gargallica)\n",
    "\n",
    "---\n"
   ]
  },
  {
   "cell_type": "markdown",
   "metadata": {},
   "source": [
    "### Installation d'un noyau R dans un jupyter notebook :\n",
    "\n",
    "   - [https://docs.anaconda.com/anaconda/navigator/tutorials/r-lang/](https://docs.anaconda.com/anaconda/navigator/tutorials/r-lang/)\n",
    "\n",
    "---"
   ]
  },
  {
   "cell_type": "markdown",
   "metadata": {},
   "source": [
    "### Faire une recherche avancée sur gallica.bnf.fr\n",
    "\n",
    "Par exemple : \n",
    "\n",
    "- Je cherche tout ce qu'il y a comme réponse sur \n",
    "\n",
    "    - l'auteur Guy de Maupassant\n",
    "    - en monographies\n",
    "    - disponible sur Gallica : [https://gallica.bnf.fr/](https://gallica.bnf.fr/)\n",
    "    - libre de droits\n",
    "\n",
    "</br>\n",
    "\n",
    "- Je copie le lien internet \n",
    "\n",
    "</br>\n",
    "\n",
    "- https://gallica.bnf.fr/services/engine/search/sru?operation=searchRetrieve&exactSearch=false&collapsing=true&version=1.2&query=(dc.creator%20all%20%22Maupassant,%20Guy%20de%22%20or%20dc.contributor%20all%20%22Maupassant,%20Guy%20de%22%20)%20%20and%20(dc.type%20all%20%22monographie%22)%20and%20(provenance%20adj%20%22bnf.fr%22)%20and%20(access%20all%20%22fayes%22)&suggest=10&keywords=Maupassant,%20Guy%20de\n",
    "\n",
    "</br>\n",
    "\n",
    "- Et je récupère tout ce qui suit query= \n",
    "\n",
    "</br>\n",
    "\n",
    "- (dc.creator%20all%20%22Maupassant,%20Guy%20de%22%20or%20dc.contributor%20all%20%22Maupassant,%20Guy%20de%22%20)%20%20and%20(dc.type%20all%20%22monographie%22)%20and%20(provenance%20adj%20%22bnf.fr%22)%20and%20(access%20all%20%22fayes%22)&suggest=10&keywords=Maupassant,%20Guy%20de\n",
    "\n",
    "### Pourquoi passer par la barre de recherche de Gallica plutôt que d'en rester dans à requête au sein du Jupyter notebook ?\n",
    "\n",
    "\n",
    "---"
   ]
  },
  {
   "cell_type": "code",
   "execution_count": 1,
   "metadata": {},
   "outputs": [],
   "source": [
    "# Copie de la query :\n",
    "\n",
    "query = '(dc.creator%20all%20%22Maupassant,%20Guy%20de%22%20or%20dc.contributor%20all%20%22Maupassant,%20Guy%20de%22%20)%20%20and%20(dc.type%20all%20%22monographie%22)%20and%20(provenance%20adj%20%22bnf.fr%22)%20and%20(access%20all%20%22fayes%22)&suggest=10&keywords=Maupassant,%20Guy%20de'\n",
    "\n",
    "# Amorce de récupération du XML :\n",
    "\n",
    "i = 1\n",
    "\n",
    "requete <- function(i)xml2::read_xml(paste0(\n",
    "    'http://gallica.bnf.fr/SRU?operation=searchRetrieve&version=1.2&query=(', \n",
    "    query,')&collapsing=false&maximumRecords=50&startRecord=',\n",
    "    i))"
   ]
  },
  {
   "cell_type": "code",
   "execution_count": 2,
   "metadata": {},
   "outputs": [
    {
     "data": {
      "text/plain": [
       "{xml_document}\n",
       "<searchRetrieveResponse xmlns:ns5=\"http://gallica.bnf.fr/namespaces/gallica/\" xmlns:oai_dc=\"http://www.openarchives.org/OAI/2.0/oai_dc/\" xmlns:srw=\"http://www.loc.gov/zing/srw/\" xmlns:dc=\"http://purl.org/dc/elements/1.1/\">\n",
       "[1] <srw:version>1.2</srw:version>\n",
       "[2] <srw:echoedSearchRetrieveRequest>\\n  <srw:query>((dc.creator all \"Maupass ...\n",
       "[3] <srw:numberOfRecords>121</srw:numberOfRecords>\n",
       "[4] <srw:extraResponseData>&lt;numberOfRecordsDecollapser&gt;121&lt;/numberOf ...\n",
       "[5] <srw:records>\\n  <srw:record>\\n    <srw:recordSchema>http://www.openarchi ...\n",
       "[6] <srw:nextRecordPosition>51</srw:nextRecordPosition>"
      ]
     },
     "metadata": {},
     "output_type": "display_data"
    }
   ],
   "source": [
    "# Première 50 réponses (initialiser la structure xml avec un premier coup)\n",
    "flux_xml <- requete(1)\n",
    "flux_xml"
   ]
  },
  {
   "cell_type": "code",
   "execution_count": 3,
   "metadata": {},
   "outputs": [
    {
     "data": {
      "text/html": [
       "121"
      ],
      "text/latex": [
       "121"
      ],
      "text/markdown": [
       "121"
      ],
      "text/plain": [
       "[1] 121"
      ]
     },
     "metadata": {},
     "output_type": "display_data"
    }
   ],
   "source": [
    "# récupérer le nombre total de réponses\n",
    "xml_list <- xml2::as_list(flux_xml)\n",
    "nb_rep <- as.integer(unlist(xml_list$searchRetrieveResponse$numberOfRecords))\n",
    "nb_rep"
   ]
  },
  {
   "cell_type": "code",
   "execution_count": 4,
   "metadata": {},
   "outputs": [],
   "source": [
    "# Boucle sur la suite, 50 par 50\n",
    "# Ajouter au document xml tot les réponses des autres pages\n",
    "for (j in seq(51, nb_rep, by = 50)){\n",
    "  temp <- requete(j)\n",
    "  for (l in xml2::xml_children(temp)){\n",
    "    xml2::xml_add_child(flux_xml, l)\n",
    "  }\n",
    "}"
   ]
  },
  {
   "cell_type": "code",
   "execution_count": 5,
   "metadata": {},
   "outputs": [
    {
     "data": {
      "text/plain": [
       "{xml_document}\n",
       "<searchRetrieveResponse xmlns:ns5=\"http://gallica.bnf.fr/namespaces/gallica/\" xmlns:oai_dc=\"http://www.openarchives.org/OAI/2.0/oai_dc/\" xmlns:srw=\"http://www.loc.gov/zing/srw/\" xmlns:dc=\"http://purl.org/dc/elements/1.1/\">\n",
       " [1] <srw:version>1.2</srw:version>\n",
       " [2] <srw:echoedSearchRetrieveRequest>\\n  <srw:query>((dc.creator all \"Maupas ...\n",
       " [3] <srw:numberOfRecords>121</srw:numberOfRecords>\n",
       " [4] <srw:extraResponseData>&lt;numberOfRecordsDecollapser&gt;121&lt;/numberO ...\n",
       " [5] <srw:records>\\n  <srw:record>\\n    <srw:recordSchema>http://www.openarch ...\n",
       " [6] <srw:nextRecordPosition>51</srw:nextRecordPosition>\n",
       " [7] <srw:version xmlns:srw=\"http://www.loc.gov/zing/srw/\">1.2</srw:version>\n",
       " [8] <srw:echoedSearchRetrieveRequest xmlns:srw=\"http://www.loc.gov/zing/srw/ ...\n",
       " [9] <srw:numberOfRecords xmlns:srw=\"http://www.loc.gov/zing/srw/\">121</srw:n ...\n",
       "[10] <srw:extraResponseData xmlns:srw=\"http://www.loc.gov/zing/srw/\">&lt;numb ...\n",
       "[11] <srw:records xmlns:srw=\"http://www.loc.gov/zing/srw/\" xmlns:oai_dc=\"http ...\n",
       "[12] <srw:nextRecordPosition xmlns:srw=\"http://www.loc.gov/zing/srw/\">101</sr ...\n",
       "[13] <srw:version xmlns:srw=\"http://www.loc.gov/zing/srw/\">1.2</srw:version>\n",
       "[14] <srw:echoedSearchRetrieveRequest xmlns:srw=\"http://www.loc.gov/zing/srw/ ...\n",
       "[15] <srw:numberOfRecords xmlns:srw=\"http://www.loc.gov/zing/srw/\">121</srw:n ...\n",
       "[16] <srw:extraResponseData xmlns:srw=\"http://www.loc.gov/zing/srw/\">&lt;numb ...\n",
       "[17] <srw:records xmlns:srw=\"http://www.loc.gov/zing/srw/\" xmlns:oai_dc=\"http ...\n",
       "[18] <srw:nextRecordPosition xmlns:srw=\"http://www.loc.gov/zing/srw/\">151</sr ..."
      ]
     },
     "metadata": {},
     "output_type": "display_data"
    }
   ],
   "source": [
    "flux_xml"
   ]
  },
  {
   "cell_type": "code",
   "execution_count": 6,
   "metadata": {},
   "outputs": [
    {
     "data": {
      "text/plain": [
       "NULL"
      ]
     },
     "metadata": {},
     "output_type": "display_data"
    }
   ],
   "source": [
    "# Sauvegarde du flux XML :\n",
    "\n",
    "xml2::write_xml(flux_xml, 'Maupassant.xml')"
   ]
  },
  {
   "cell_type": "code",
   "execution_count": 7,
   "metadata": {
    "scrolled": false
   },
   "outputs": [
    {
     "name": "stderr",
     "output_type": "stream",
     "text": [
      "\n",
      "Attaching package: ‘dplyr’\n",
      "\n",
      "The following objects are masked from ‘package:stats’:\n",
      "\n",
      "    filter, lag\n",
      "\n",
      "The following objects are masked from ‘package:base’:\n",
      "\n",
      "    intersect, setdiff, setequal, union\n",
      "\n"
     ]
    },
    {
     "data": {
      "text/html": [
       "<table>\n",
       "<thead><tr><th scope=col>recordId</th><th scope=col>contributor</th><th scope=col>creator</th><th scope=col>date</th><th scope=col>description</th><th scope=col>format</th><th scope=col>identifier</th><th scope=col>language</th><th scope=col>publisher</th><th scope=col>relation</th><th scope=col>rights</th><th scope=col>source</th><th scope=col>subject</th><th scope=col>title</th><th scope=col>type</th></tr></thead>\n",
       "<tbody>\n",
       "\t<tr><td>1                                                                                                                                                                     </td><td>Lepère, Auguste (1849-1918). Illustrateur                                                                                                                             </td><td>Maupassant, Guy de (1850-1893). Auteur du texte -- Maupassant, Guy de (1850-1893). Auteur du texte                                                                    </td><td>1907                                                                                                                                                                  </td><td>Comprend : La ficelle -- Appartient à l’ensemble documentaire : BNormand1 -- Appartient à l’ensemble documentaire : HNormand1                                         </td><td>1 vol. (89 p.) : fig. en coul. ; in-8 -- Nombre total de vues : 129                                                                                                   </td><td>https://gallica.bnf.fr/ark:/12148/bpt6k1049488s                                                                                                                       </td><td>fre                                                                                                                                                                   </td><td> (Paris)                                                                                                                                                              </td><td>Notice du catalogue : http://catalogue.bnf.fr/ark:/12148/cb30910533g                                                                                                  </td><td>domaine public -- public domain                                                                                                                                       </td><td>Bibliothèque nationale de France, département Réserve des livres rares, RES P-Y2-445                                                                                  </td><td>                                                                                                                                                                      </td><td>Deux contes / Maupassant ; 84 petites compositions dessinées et gravées sur bois par Auguste Lepère                                                                   </td><td>text -- monographie imprimée -- printed monograph                                                                                                                     </td></tr>\n",
       "\t<tr><td>2                                                                                                                                                                     </td><td>                                                                                                                                                                      </td><td>Maupassant, Guy de (1850-1893). Auteur du texte                                                                                                                       </td><td>1882                                                                                                                                                                  </td><td>Contient une table des matières -- Avec mode texte                                                                                                                    </td><td>1 vol. (172 p.) : portrait ; in-16 -- Nombre total de vues : 186                                                                                                      </td><td>https://gallica.bnf.fr/ark:/12148/bpt6k5680846d                                                                                                                       </td><td>fre -- français                                                                                                                                                       </td><td>H. Kistemaeckers (Bruxelles)                                                                                                                                          </td><td>Notice du catalogue : http://catalogue.bnf.fr/ark:/12148/cb324319162                                                                                                  </td><td>domaine public -- public domain                                                                                                                                       </td><td>Bibliothèque nationale de France, département Réserve des livres rares, RES P-Y2-2092                                                                                 </td><td>                                                                                                                                                                      </td><td>Mlle Fifi / Guy de Maupassant ; eau-forte par Just                                                                                                                    </td><td>text -- monographie imprimée -- monographie imprimée                                                                                                                  </td></tr>\n",
       "\t<tr><td>3                                                                                                                                                                     </td><td>                                                                                                                                                                      </td><td>Maupassant, Guy de (1850-1893). Auteur du texte                                                                                                                       </td><td>1884                                                                                                                                                                  </td><td>Contient une table des matières -- Avec mode texte                                                                                                                    </td><td>III-348 p. ; in-18 -- Nombre total de vues : 362 -- application/epub+zip                                                                                              </td><td>https://gallica.bnf.fr/ark:/12148/bpt6k58416576                                                                                                                       </td><td>fre -- français                                                                                                                                                       </td><td>V. Havard (Paris)                                                                                                                                                     </td><td>Notice du catalogue : http://catalogue.bnf.fr/ark:/12148/cb30910585q                                                                                                  </td><td>domaine public -- public domain                                                                                                                                       </td><td>Bibliothèque nationale de France, département Littérature et art, 8-Y2-6879                                                                                           </td><td>                                                                                                                                                                      </td><td>Miss Harriet / Guy de Maupassant                                                                                                                                      </td><td>text -- monographie imprimée -- monographie imprimée                                                                                                                  </td></tr>\n",
       "\t<tr><td>4                                                                                                                                                                     </td><td>Normandy, Georges (1882-1946). Éditeur scientifique                                                                                                                   </td><td>Maupassant, Guy de (1850-1893). Auteur du texte                                                                                                                       </td><td>1913                                                                                                                                                                  </td><td>Contient une table des matières -- Avec mode texte                                                                                                                    </td><td>1 vol. (187 p.) : portr., fac-sim., pl. ; in-16 -- Nombre total de vues : 196                                                                                         </td><td>https://gallica.bnf.fr/ark:/12148/bpt6k5801596v                                                                                                                       </td><td>fre -- français                                                                                                                                                       </td><td>A. Méricant (Paris)                                                                                                                                                   </td><td>Notice du catalogue : http://catalogue.bnf.fr/ark:/12148/cb365719754                                                                                                  </td><td>domaine public -- public domain                                                                                                                                       </td><td>Bibliothèque nationale de France, département Littérature et art, Z BARRES-22799                                                                                      </td><td>                                                                                                                                                                      </td><td>Anthologie des auteurs modernes. V, Recueil de morceaux choisis / Guy de Maupassant ; précédé d'une étude... par Georges Normandy...                                  </td><td>text -- monographie imprimée -- monographie imprimée                                                                                                                  </td></tr>\n",
       "\t<tr><td>5                                                                                                                                                                     </td><td>                                                                                                                                                                      </td><td>Maupassant, Guy de (1850-1893). Auteur du texte                                                                                                                       </td><td>1883                                                                                                                                                                  </td><td>[Contes de la bécasse (français)] -- Avec mode texte                                                                                                                  </td><td>1 vol. (298 p.) ; in-16 -- Nombre total de vues : 313 -- application/epub+zip 3.0 accessible -- Format adaptable de type XML DTBook, 2005-3                           </td><td>https://gallica.bnf.fr/ark:/12148/bpt6k10407406                                                                                                                       </td><td>fre -- français                                                                                                                                                       </td><td>E. Rouveyre et G. Blond (Paris)                                                                                                                                       </td><td>Notice d’oeuvre : http://catalogue.bnf.fr/ark:/12148/cb12376516m -- Notice du catalogue : http://catalogue.bnf.fr/ark:/12148/cb324318906                              </td><td>domaine public -- public domain                                                                                                                                       </td><td>Bibliothèque nationale de France, département Réserve des livres rares, RES 8-Z DON-595 (61)                                                                          </td><td>                                                                                                                                                                      </td><td>Contes de la bécasse. 2è édition (2e édition) / Guy de Maupassant                                                                                                     </td><td>text -- monographie imprimée -- monographie imprimée                                                                                                                  </td></tr>\n",
       "\t<tr><td>6                                                                                                                                                                     </td><td>                                                                                                                                                                      </td><td>Maupassant, Guy de (1850-1893). Auteur du texte                                                                                                                       </td><td>1884                                                                                                                                                                  </td><td>Avec mode texte                                                                                                                                                       </td><td>1 vol. (145 p.) : fig., pl. en divers états ; in-4 -- Nombre total de vues : 209 -- application/epub+zip 3.0 accessible -- Format adaptable de type XML DTBook, 2005-3</td><td>https://gallica.bnf.fr/ark:/12148/bpt6k10407688                                                                                                                       </td><td>fre -- français                                                                                                                                                       </td><td>E. Monnier (Paris)                                                                                                                                                    </td><td>Notice du catalogue : http://catalogue.bnf.fr/ark:/12148/cb309105088                                                                                                  </td><td>domaine public -- public domain                                                                                                                                       </td><td>Bibliothèque nationale de France, département Réserve des livres rares, SMITH LESOUEF R-6505                                                                          </td><td>                                                                                                                                                                      </td><td>Clair de lune / Guy de Maupassant                                                                                                                                     </td><td>text -- monographie imprimée -- monographie imprimée                                                                                                                  </td></tr>\n",
       "</tbody>\n",
       "</table>\n"
      ],
      "text/latex": [
       "\\begin{tabular}{r|lllllllllllllll}\n",
       " recordId & contributor & creator & date & description & format & identifier & language & publisher & relation & rights & source & subject & title & type\\\\\n",
       "\\hline\n",
       "\t 1                                                                                                                                                                      & Lepère, Auguste (1849-1918). Illustrateur                                                                                                                              & Maupassant, Guy de (1850-1893). Auteur du texte -- Maupassant, Guy de (1850-1893). Auteur du texte                                                                     & 1907                                                                                                                                                                   & Comprend : La ficelle -- Appartient à l’ensemble documentaire : BNormand1 -- Appartient à l’ensemble documentaire : HNormand1                                          & 1 vol. (89 p.) : fig. en coul. ; in-8 -- Nombre total de vues : 129                                                                                                    & https://gallica.bnf.fr/ark:/12148/bpt6k1049488s                                                                                                                        & fre                                                                                                                                                                    &  (Paris)                                                                                                                                                               & Notice du catalogue : http://catalogue.bnf.fr/ark:/12148/cb30910533g                                                                                                   & domaine public -- public domain                                                                                                                                        & Bibliothèque nationale de France, département Réserve des livres rares, RES P-Y2-445                                                                                   &                                                                                                                                                                        & Deux contes / Maupassant ; 84 petites compositions dessinées et gravées sur bois par Auguste Lepère                                                                    & text -- monographie imprimée -- printed monograph                                                                                                                     \\\\\n",
       "\t 2                                                                                                                                                                      &                                                                                                                                                                        & Maupassant, Guy de (1850-1893). Auteur du texte                                                                                                                        & 1882                                                                                                                                                                   & Contient une table des matières -- Avec mode texte                                                                                                                     & 1 vol. (172 p.) : portrait ; in-16 -- Nombre total de vues : 186                                                                                                       & https://gallica.bnf.fr/ark:/12148/bpt6k5680846d                                                                                                                        & fre -- français                                                                                                                                                        & H. Kistemaeckers (Bruxelles)                                                                                                                                           & Notice du catalogue : http://catalogue.bnf.fr/ark:/12148/cb324319162                                                                                                   & domaine public -- public domain                                                                                                                                        & Bibliothèque nationale de France, département Réserve des livres rares, RES P-Y2-2092                                                                                  &                                                                                                                                                                        & Mlle Fifi / Guy de Maupassant ; eau-forte par Just                                                                                                                     & text -- monographie imprimée -- monographie imprimée                                                                                                                  \\\\\n",
       "\t 3                                                                                                                                                                      &                                                                                                                                                                        & Maupassant, Guy de (1850-1893). Auteur du texte                                                                                                                        & 1884                                                                                                                                                                   & Contient une table des matières -- Avec mode texte                                                                                                                     & III-348 p. ; in-18 -- Nombre total de vues : 362 -- application/epub+zip                                                                                               & https://gallica.bnf.fr/ark:/12148/bpt6k58416576                                                                                                                        & fre -- français                                                                                                                                                        & V. Havard (Paris)                                                                                                                                                      & Notice du catalogue : http://catalogue.bnf.fr/ark:/12148/cb30910585q                                                                                                   & domaine public -- public domain                                                                                                                                        & Bibliothèque nationale de France, département Littérature et art, 8-Y2-6879                                                                                            &                                                                                                                                                                        & Miss Harriet / Guy de Maupassant                                                                                                                                       & text -- monographie imprimée -- monographie imprimée                                                                                                                  \\\\\n",
       "\t 4                                                                                                                                                                      & Normandy, Georges (1882-1946). Éditeur scientifique                                                                                                                    & Maupassant, Guy de (1850-1893). Auteur du texte                                                                                                                        & 1913                                                                                                                                                                   & Contient une table des matières -- Avec mode texte                                                                                                                     & 1 vol. (187 p.) : portr., fac-sim., pl. ; in-16 -- Nombre total de vues : 196                                                                                          & https://gallica.bnf.fr/ark:/12148/bpt6k5801596v                                                                                                                        & fre -- français                                                                                                                                                        & A. Méricant (Paris)                                                                                                                                                    & Notice du catalogue : http://catalogue.bnf.fr/ark:/12148/cb365719754                                                                                                   & domaine public -- public domain                                                                                                                                        & Bibliothèque nationale de France, département Littérature et art, Z BARRES-22799                                                                                       &                                                                                                                                                                        & Anthologie des auteurs modernes. V, Recueil de morceaux choisis / Guy de Maupassant ; précédé d'une étude... par Georges Normandy...                                   & text -- monographie imprimée -- monographie imprimée                                                                                                                  \\\\\n",
       "\t 5                                                                                                                                                                      &                                                                                                                                                                        & Maupassant, Guy de (1850-1893). Auteur du texte                                                                                                                        & 1883                                                                                                                                                                   & {[}Contes de la bécasse (français){]} -- Avec mode texte                                                                                                               & 1 vol. (298 p.) ; in-16 -- Nombre total de vues : 313 -- application/epub+zip 3.0 accessible -- Format adaptable de type XML DTBook, 2005-3                            & https://gallica.bnf.fr/ark:/12148/bpt6k10407406                                                                                                                        & fre -- français                                                                                                                                                        & E. Rouveyre et G. Blond (Paris)                                                                                                                                        & Notice d’oeuvre : http://catalogue.bnf.fr/ark:/12148/cb12376516m -- Notice du catalogue : http://catalogue.bnf.fr/ark:/12148/cb324318906                               & domaine public -- public domain                                                                                                                                        & Bibliothèque nationale de France, département Réserve des livres rares, RES 8-Z DON-595 (61)                                                                           &                                                                                                                                                                        & Contes de la bécasse. 2è édition (2e édition) / Guy de Maupassant                                                                                                      & text -- monographie imprimée -- monographie imprimée                                                                                                                  \\\\\n",
       "\t 6                                                                                                                                                                      &                                                                                                                                                                        & Maupassant, Guy de (1850-1893). Auteur du texte                                                                                                                        & 1884                                                                                                                                                                   & Avec mode texte                                                                                                                                                        & 1 vol. (145 p.) : fig., pl. en divers états ; in-4 -- Nombre total de vues : 209 -- application/epub+zip 3.0 accessible -- Format adaptable de type XML DTBook, 2005-3 & https://gallica.bnf.fr/ark:/12148/bpt6k10407688                                                                                                                        & fre -- français                                                                                                                                                        & E. Monnier (Paris)                                                                                                                                                     & Notice du catalogue : http://catalogue.bnf.fr/ark:/12148/cb309105088                                                                                                   & domaine public -- public domain                                                                                                                                        & Bibliothèque nationale de France, département Réserve des livres rares, SMITH LESOUEF R-6505                                                                           &                                                                                                                                                                        & Clair de lune / Guy de Maupassant                                                                                                                                      & text -- monographie imprimée -- monographie imprimée                                                                                                                  \\\\\n",
       "\\end{tabular}\n"
      ],
      "text/markdown": [
       "\n",
       "| recordId | contributor | creator | date | description | format | identifier | language | publisher | relation | rights | source | subject | title | type |\n",
       "|---|---|---|---|---|---|---|---|---|---|---|---|---|---|---|\n",
       "| 1                                                                                                                                                                      | Lepère, Auguste (1849-1918). Illustrateur                                                                                                                              | Maupassant, Guy de (1850-1893). Auteur du texte -- Maupassant, Guy de (1850-1893). Auteur du texte                                                                     | 1907                                                                                                                                                                   | Comprend : La ficelle -- Appartient à l’ensemble documentaire : BNormand1 -- Appartient à l’ensemble documentaire : HNormand1                                          | 1 vol. (89 p.) : fig. en coul. ; in-8 -- Nombre total de vues : 129                                                                                                    | https://gallica.bnf.fr/ark:/12148/bpt6k1049488s                                                                                                                        | fre                                                                                                                                                                    |  (Paris)                                                                                                                                                               | Notice du catalogue : http://catalogue.bnf.fr/ark:/12148/cb30910533g                                                                                                   | domaine public -- public domain                                                                                                                                        | Bibliothèque nationale de France, département Réserve des livres rares, RES P-Y2-445                                                                                   |                                                                                                                                                                        | Deux contes / Maupassant ; 84 petites compositions dessinées et gravées sur bois par Auguste Lepère                                                                    | text -- monographie imprimée -- printed monograph                                                                                                                      |\n",
       "| 2                                                                                                                                                                      |                                                                                                                                                                        | Maupassant, Guy de (1850-1893). Auteur du texte                                                                                                                        | 1882                                                                                                                                                                   | Contient une table des matières -- Avec mode texte                                                                                                                     | 1 vol. (172 p.) : portrait ; in-16 -- Nombre total de vues : 186                                                                                                       | https://gallica.bnf.fr/ark:/12148/bpt6k5680846d                                                                                                                        | fre -- français                                                                                                                                                        | H. Kistemaeckers (Bruxelles)                                                                                                                                           | Notice du catalogue : http://catalogue.bnf.fr/ark:/12148/cb324319162                                                                                                   | domaine public -- public domain                                                                                                                                        | Bibliothèque nationale de France, département Réserve des livres rares, RES P-Y2-2092                                                                                  |                                                                                                                                                                        | Mlle Fifi / Guy de Maupassant ; eau-forte par Just                                                                                                                     | text -- monographie imprimée -- monographie imprimée                                                                                                                   |\n",
       "| 3                                                                                                                                                                      |                                                                                                                                                                        | Maupassant, Guy de (1850-1893). Auteur du texte                                                                                                                        | 1884                                                                                                                                                                   | Contient une table des matières -- Avec mode texte                                                                                                                     | III-348 p. ; in-18 -- Nombre total de vues : 362 -- application/epub+zip                                                                                               | https://gallica.bnf.fr/ark:/12148/bpt6k58416576                                                                                                                        | fre -- français                                                                                                                                                        | V. Havard (Paris)                                                                                                                                                      | Notice du catalogue : http://catalogue.bnf.fr/ark:/12148/cb30910585q                                                                                                   | domaine public -- public domain                                                                                                                                        | Bibliothèque nationale de France, département Littérature et art, 8-Y2-6879                                                                                            |                                                                                                                                                                        | Miss Harriet / Guy de Maupassant                                                                                                                                       | text -- monographie imprimée -- monographie imprimée                                                                                                                   |\n",
       "| 4                                                                                                                                                                      | Normandy, Georges (1882-1946). Éditeur scientifique                                                                                                                    | Maupassant, Guy de (1850-1893). Auteur du texte                                                                                                                        | 1913                                                                                                                                                                   | Contient une table des matières -- Avec mode texte                                                                                                                     | 1 vol. (187 p.) : portr., fac-sim., pl. ; in-16 -- Nombre total de vues : 196                                                                                          | https://gallica.bnf.fr/ark:/12148/bpt6k5801596v                                                                                                                        | fre -- français                                                                                                                                                        | A. Méricant (Paris)                                                                                                                                                    | Notice du catalogue : http://catalogue.bnf.fr/ark:/12148/cb365719754                                                                                                   | domaine public -- public domain                                                                                                                                        | Bibliothèque nationale de France, département Littérature et art, Z BARRES-22799                                                                                       |                                                                                                                                                                        | Anthologie des auteurs modernes. V, Recueil de morceaux choisis / Guy de Maupassant ; précédé d'une étude... par Georges Normandy...                                   | text -- monographie imprimée -- monographie imprimée                                                                                                                   |\n",
       "| 5                                                                                                                                                                      |                                                                                                                                                                        | Maupassant, Guy de (1850-1893). Auteur du texte                                                                                                                        | 1883                                                                                                                                                                   | [Contes de la bécasse (français)] -- Avec mode texte                                                                                                                   | 1 vol. (298 p.) ; in-16 -- Nombre total de vues : 313 -- application/epub+zip 3.0 accessible -- Format adaptable de type XML DTBook, 2005-3                            | https://gallica.bnf.fr/ark:/12148/bpt6k10407406                                                                                                                        | fre -- français                                                                                                                                                        | E. Rouveyre et G. Blond (Paris)                                                                                                                                        | Notice d’oeuvre : http://catalogue.bnf.fr/ark:/12148/cb12376516m -- Notice du catalogue : http://catalogue.bnf.fr/ark:/12148/cb324318906                               | domaine public -- public domain                                                                                                                                        | Bibliothèque nationale de France, département Réserve des livres rares, RES 8-Z DON-595 (61)                                                                           |                                                                                                                                                                        | Contes de la bécasse. 2è édition (2e édition) / Guy de Maupassant                                                                                                      | text -- monographie imprimée -- monographie imprimée                                                                                                                   |\n",
       "| 6                                                                                                                                                                      |                                                                                                                                                                        | Maupassant, Guy de (1850-1893). Auteur du texte                                                                                                                        | 1884                                                                                                                                                                   | Avec mode texte                                                                                                                                                        | 1 vol. (145 p.) : fig., pl. en divers états ; in-4 -- Nombre total de vues : 209 -- application/epub+zip 3.0 accessible -- Format adaptable de type XML DTBook, 2005-3 | https://gallica.bnf.fr/ark:/12148/bpt6k10407688                                                                                                                        | fre -- français                                                                                                                                                        | E. Monnier (Paris)                                                                                                                                                     | Notice du catalogue : http://catalogue.bnf.fr/ark:/12148/cb309105088                                                                                                   | domaine public -- public domain                                                                                                                                        | Bibliothèque nationale de France, département Réserve des livres rares, SMITH LESOUEF R-6505                                                                           |                                                                                                                                                                        | Clair de lune / Guy de Maupassant                                                                                                                                      | text -- monographie imprimée -- monographie imprimée                                                                                                                   |\n",
       "\n"
      ],
      "text/plain": [
       "  recordId contributor                                        \n",
       "1 1        Lepère, Auguste (1849-1918). Illustrateur          \n",
       "2 2                                                           \n",
       "3 3                                                           \n",
       "4 4        Normandy, Georges (1882-1946). Éditeur scientifique\n",
       "5 5                                                           \n",
       "6 6                                                           \n",
       "  creator                                                                                           \n",
       "1 Maupassant, Guy de (1850-1893). Auteur du texte -- Maupassant, Guy de (1850-1893). Auteur du texte\n",
       "2 Maupassant, Guy de (1850-1893). Auteur du texte                                                   \n",
       "3 Maupassant, Guy de (1850-1893). Auteur du texte                                                   \n",
       "4 Maupassant, Guy de (1850-1893). Auteur du texte                                                   \n",
       "5 Maupassant, Guy de (1850-1893). Auteur du texte                                                   \n",
       "6 Maupassant, Guy de (1850-1893). Auteur du texte                                                   \n",
       "  date\n",
       "1 1907\n",
       "2 1882\n",
       "3 1884\n",
       "4 1913\n",
       "5 1883\n",
       "6 1884\n",
       "  description                                                                                                                  \n",
       "1 Comprend : La ficelle -- Appartient à l’ensemble documentaire : BNormand1 -- Appartient à l’ensemble documentaire : HNormand1\n",
       "2 Contient une table des matières -- Avec mode texte                                                                           \n",
       "3 Contient une table des matières -- Avec mode texte                                                                           \n",
       "4 Contient une table des matières -- Avec mode texte                                                                           \n",
       "5 [Contes de la bécasse (français)] -- Avec mode texte                                                                         \n",
       "6 Avec mode texte                                                                                                              \n",
       "  format                                                                                                                                                                \n",
       "1 1 vol. (89 p.) : fig. en coul. ; in-8 -- Nombre total de vues : 129                                                                                                   \n",
       "2 1 vol. (172 p.) : portrait ; in-16 -- Nombre total de vues : 186                                                                                                      \n",
       "3 III-348 p. ; in-18 -- Nombre total de vues : 362 -- application/epub+zip                                                                                              \n",
       "4 1 vol. (187 p.) : portr., fac-sim., pl. ; in-16 -- Nombre total de vues : 196                                                                                         \n",
       "5 1 vol. (298 p.) ; in-16 -- Nombre total de vues : 313 -- application/epub+zip 3.0 accessible -- Format adaptable de type XML DTBook, 2005-3                           \n",
       "6 1 vol. (145 p.) : fig., pl. en divers états ; in-4 -- Nombre total de vues : 209 -- application/epub+zip 3.0 accessible -- Format adaptable de type XML DTBook, 2005-3\n",
       "  identifier                                      language       \n",
       "1 https://gallica.bnf.fr/ark:/12148/bpt6k1049488s fre            \n",
       "2 https://gallica.bnf.fr/ark:/12148/bpt6k5680846d fre -- français\n",
       "3 https://gallica.bnf.fr/ark:/12148/bpt6k58416576 fre -- français\n",
       "4 https://gallica.bnf.fr/ark:/12148/bpt6k5801596v fre -- français\n",
       "5 https://gallica.bnf.fr/ark:/12148/bpt6k10407406 fre -- français\n",
       "6 https://gallica.bnf.fr/ark:/12148/bpt6k10407688 fre -- français\n",
       "  publisher                      \n",
       "1  (Paris)                       \n",
       "2 H. Kistemaeckers (Bruxelles)   \n",
       "3 V. Havard (Paris)              \n",
       "4 A. Méricant (Paris)            \n",
       "5 E. Rouveyre et G. Blond (Paris)\n",
       "6 E. Monnier (Paris)             \n",
       "  relation                                                                                                                                \n",
       "1 Notice du catalogue : http://catalogue.bnf.fr/ark:/12148/cb30910533g                                                                    \n",
       "2 Notice du catalogue : http://catalogue.bnf.fr/ark:/12148/cb324319162                                                                    \n",
       "3 Notice du catalogue : http://catalogue.bnf.fr/ark:/12148/cb30910585q                                                                    \n",
       "4 Notice du catalogue : http://catalogue.bnf.fr/ark:/12148/cb365719754                                                                    \n",
       "5 Notice d’oeuvre : http://catalogue.bnf.fr/ark:/12148/cb12376516m -- Notice du catalogue : http://catalogue.bnf.fr/ark:/12148/cb324318906\n",
       "6 Notice du catalogue : http://catalogue.bnf.fr/ark:/12148/cb309105088                                                                    \n",
       "  rights                         \n",
       "1 domaine public -- public domain\n",
       "2 domaine public -- public domain\n",
       "3 domaine public -- public domain\n",
       "4 domaine public -- public domain\n",
       "5 domaine public -- public domain\n",
       "6 domaine public -- public domain\n",
       "  source                                                                                      \n",
       "1 Bibliothèque nationale de France, département Réserve des livres rares, RES P-Y2-445        \n",
       "2 Bibliothèque nationale de France, département Réserve des livres rares, RES P-Y2-2092       \n",
       "3 Bibliothèque nationale de France, département Littérature et art, 8-Y2-6879                 \n",
       "4 Bibliothèque nationale de France, département Littérature et art, Z BARRES-22799            \n",
       "5 Bibliothèque nationale de France, département Réserve des livres rares, RES 8-Z DON-595 (61)\n",
       "6 Bibliothèque nationale de France, département Réserve des livres rares, SMITH LESOUEF R-6505\n",
       "  subject\n",
       "1        \n",
       "2        \n",
       "3        \n",
       "4        \n",
       "5        \n",
       "6        \n",
       "  title                                                                                                                               \n",
       "1 Deux contes / Maupassant ; 84 petites compositions dessinées et gravées sur bois par Auguste Lepère                                 \n",
       "2 Mlle Fifi / Guy de Maupassant ; eau-forte par Just                                                                                  \n",
       "3 Miss Harriet / Guy de Maupassant                                                                                                    \n",
       "4 Anthologie des auteurs modernes. V, Recueil de morceaux choisis / Guy de Maupassant ; précédé d'une étude... par Georges Normandy...\n",
       "5 Contes de la bécasse. 2è édition (2e édition) / Guy de Maupassant                                                                   \n",
       "6 Clair de lune / Guy de Maupassant                                                                                                   \n",
       "  type                                                \n",
       "1 text -- monographie imprimée -- printed monograph   \n",
       "2 text -- monographie imprimée -- monographie imprimée\n",
       "3 text -- monographie imprimée -- monographie imprimée\n",
       "4 text -- monographie imprimée -- monographie imprimée\n",
       "5 text -- monographie imprimée -- monographie imprimée\n",
       "6 text -- monographie imprimée -- monographie imprimée"
      ]
     },
     "metadata": {},
     "output_type": "display_data"
    }
   ],
   "source": [
    "# Transformation du XML en dataframe (tableau) : \n",
    "\n",
    "library('xml2')\n",
    "library('purrr')\n",
    "library('dplyr')\n",
    "library('tidyr')\n",
    "\n",
    "xml_to_df <- function(doc, ns = xml_ns(doc)) {\n",
    "  split_by <- function(.x, .f, ...) {\n",
    "    vals <- map(.x, .f, ...)\n",
    "    split(.x, simplify_all(transpose(vals)))\n",
    "  }\n",
    "  node_to_df <- function(node) {\n",
    "    # Filter the attributes for ones that aren't namespaces\n",
    "    # x <- list(.index = 0, .name = xml_name(node, ns))\n",
    "    x <- list(.name = xml_name(node, ns))\n",
    "    # Attributes as column headers, and their values in the first row\n",
    "    attrs <- xml_attrs(node)\n",
    "    if (length(attrs) > 0) {attrs <- attrs[!grepl(\"xmlns\", names(attrs))]}\n",
    "    if (length(attrs) > 0) {x <- c(x, attrs)}\n",
    "    # Build data frame manually, to avoid as.data.frame's good intentions\n",
    "    children <- xml_children(node)\n",
    "    if (length(children) >= 1) {\n",
    "      x <- \n",
    "        children %>%\n",
    "        # Recurse here\n",
    "        map(node_to_df) %>%\n",
    "        split_by(\".name\") %>%\n",
    "        map(bind_rows) %>%\n",
    "        map(list) %>%\n",
    "        {c(x, .)}\n",
    "      attr(x, \"row.names\") <- 1L\n",
    "      class(x) <- c(\"tbl_df\", \"data.frame\")\n",
    "    } else {\n",
    "      x$.value <- xml_text(node)\n",
    "    }\n",
    "    x\n",
    "  }\n",
    "  node_to_df(doc)\n",
    "}\n",
    "\n",
    "parse_gallica <- function(x){\n",
    "  xml2::xml_find_all(flux_xml, \".//srw:recordData\")[x] %>% \n",
    "    xml_to_df() %>% # application de la fonction précédente\n",
    "    select(-.name) %>% \n",
    "    .$`oai_dc:dc` %>% \n",
    "    .[[1]] %>% \n",
    "    mutate(recordId = 1:nrow(.)) %>% \n",
    "#    tidyr::unnest() %>% \n",
    "    tidyr::gather(var, val, - recordId) %>% \n",
    "    group_by(recordId, var) %>% \n",
    "    mutate(value = purrr::map(val, '.value') %>% purrr::flatten_chr() %>% paste0( collapse = \" -- \")) %>% \n",
    "    select(recordId, var, value) %>% \n",
    "    ungroup() %>% \n",
    "    mutate(var = stringr::str_remove(var, 'dc:')) %>% \n",
    "    tidyr::spread(var, value) %>% \n",
    "    select(-.name)\n",
    "}\n",
    "\n",
    "tot_df <- 1:nb_rep %>% \n",
    "  parse_gallica %>% \n",
    "  bind_rows()\n",
    "\n",
    "head(tot_df)"
   ]
  },
  {
   "cell_type": "code",
   "execution_count": 8,
   "metadata": {},
   "outputs": [
    {
     "name": "stderr",
     "output_type": "stream",
     "text": [
      "Warning message:\n",
      "“`cols` is now required when using unnest().\n",
      "Please use `cols = c(nqamoyen)`”"
     ]
    },
    {
     "data": {
      "text/html": [
       "<table>\n",
       "<thead><tr><th scope=col>recordId</th><th scope=col>nqamoyen</th></tr></thead>\n",
       "<tbody>\n",
       "\t<tr><td>1     </td><td>  0.00</td></tr>\n",
       "\t<tr><td>2     </td><td> 93.86</td></tr>\n",
       "\t<tr><td>3     </td><td> 99.98</td></tr>\n",
       "\t<tr><td>4     </td><td> 96.75</td></tr>\n",
       "\t<tr><td>5     </td><td> 99.98</td></tr>\n",
       "\t<tr><td>6     </td><td>100.00</td></tr>\n",
       "</tbody>\n",
       "</table>\n"
      ],
      "text/latex": [
       "\\begin{tabular}{r|ll}\n",
       " recordId & nqamoyen\\\\\n",
       "\\hline\n",
       "\t 1      &   0.00\\\\\n",
       "\t 2      &  93.86\\\\\n",
       "\t 3      &  99.98\\\\\n",
       "\t 4      &  96.75\\\\\n",
       "\t 5      &  99.98\\\\\n",
       "\t 6      & 100.00\\\\\n",
       "\\end{tabular}\n"
      ],
      "text/markdown": [
       "\n",
       "| recordId | nqamoyen |\n",
       "|---|---|\n",
       "| 1      |   0.00 |\n",
       "| 2      |  93.86 |\n",
       "| 3      |  99.98 |\n",
       "| 4      |  96.75 |\n",
       "| 5      |  99.98 |\n",
       "| 6      | 100.00 |\n",
       "\n"
      ],
      "text/plain": [
       "  recordId nqamoyen\n",
       "1 1          0.00  \n",
       "2 2         93.86  \n",
       "3 3         99.98  \n",
       "4 4         96.75  \n",
       "5 5         99.98  \n",
       "6 6        100.00  "
      ]
     },
     "metadata": {},
     "output_type": "display_data"
    }
   ],
   "source": [
    "# Calcul nqa\n",
    "\n",
    "# Cf. https://www.bnf.fr/sites/default/files/2018-11/referentiels_num_ocr.pdf\n",
    "## Section 7.2.3 :\n",
    "\n",
    "    # Dans le manifeste du document numérique (refNum ou METS) \n",
    "    # Les indicateurs à fournir (à l’échelle du document) sont notamment : \n",
    "\n",
    "        # le taux OCR brut :  le    taux de confiance en sortie de l’OCR\n",
    "        # le taux OCR corrigé :  le    taux de confiance après correction manuelle\n",
    "        # le coefficient d’étalonnage utilisé (cf. section 7.2.2)\n",
    "        # le   taux   NQA   moyen,   exprimé   par : taux   OCR   corrigé   × coefficient d’étalonnage (= moyenne de qualité de toutes les pages)\n",
    "\n",
    "parse_extraRecordData <- function(x){\n",
    "xml2::xml_find_all(flux_xml, \".//srw:extraRecordData\")[x] %>% \n",
    "  xml_to_df() %>% \n",
    "  select(-.name) %>% \n",
    "  #select(`d1:nqamoyen`) %>% \n",
    "  select(`nqamoyen`) %>% \n",
    "  unnest() %>% \n",
    "  mutate(recordId = 1:nrow(.)) %>% \n",
    "  #mutate(nqamoyen = stringr::str_remove(.value, 'd1:')) %>%\n",
    "  mutate(nqamoyen = .value) %>%\n",
    "  select(recordId, nqamoyen)\n",
    "}\n",
    "\n",
    "\n",
    "extraRecordData <- 1:nb_rep %>% \n",
    "  parse_extraRecordData\n",
    "\n",
    "extraRecordData <- extraRecordData %>% mutate(nqamoyen = as.numeric(nqamoyen))\n",
    "\n",
    "head(extraRecordData)"
   ]
  },
  {
   "cell_type": "code",
   "execution_count": 9,
   "metadata": {},
   "outputs": [
    {
     "data": {
      "text/html": [
       "84"
      ],
      "text/latex": [
       "84"
      ],
      "text/markdown": [
       "84"
      ],
      "text/plain": [
       "[1] 84"
      ]
     },
     "metadata": {},
     "output_type": "display_data"
    }
   ],
   "source": [
    "# Filtre domaine public : \n",
    "\n",
    "works <- tot_df %>% \n",
    "  filter(grepl('public', rights), as.integer(stringr::str_extract(date, '[0-9]{4}')) < 1946 ) %>% \n",
    "  inner_join(extraRecordData %>% filter(nqamoyen > 80), by = \"recordId\")\n",
    "  # inner_join(extraRecordData %>% filter(nqamoyen > 85), by = \"recordId\")\n",
    "\n",
    "nrow(works)"
   ]
  },
  {
   "cell_type": "code",
   "execution_count": 10,
   "metadata": {
    "scrolled": true
   },
   "outputs": [
    {
     "data": {
      "text/html": [
       "<table>\n",
       "<thead><tr><th scope=col>recordId</th><th scope=col>contributor</th><th scope=col>creator</th><th scope=col>date</th><th scope=col>description</th><th scope=col>format</th><th scope=col>identifier</th><th scope=col>language</th><th scope=col>publisher</th><th scope=col>relation</th><th scope=col>rights</th><th scope=col>source</th><th scope=col>subject</th><th scope=col>title</th><th scope=col>type</th><th scope=col>nqamoyen</th></tr></thead>\n",
       "<tbody>\n",
       "\t<tr><td>2                                                                                                                                                                                                                                                                                        </td><td>                                                                                                                                                                                                                                                                                         </td><td>Maupassant, Guy de (1850-1893). Auteur du texte                                                                                                                                                                                                                                          </td><td>1882                                                                                                                                                                                                                                                                                     </td><td>Contient une table des matières -- Avec mode texte                                                                                                                                                                                                                                       </td><td>1 vol. (172 p.) : portrait ; in-16 -- Nombre total de vues : 186                                                                                                                                                                                                                         </td><td>https://gallica.bnf.fr/ark:/12148/bpt6k5680846d                                                                                                                                                                                                                                          </td><td>fre -- français                                                                                                                                                                                                                                                                          </td><td>H. Kistemaeckers (Bruxelles)                                                                                                                                                                                                                                                             </td><td>Notice du catalogue : http://catalogue.bnf.fr/ark:/12148/cb324319162                                                                                                                                                                                                                     </td><td>domaine public -- public domain                                                                                                                                                                                                                                                          </td><td>Bibliothèque nationale de France, département Réserve des livres rares, RES P-Y2-2092                                                                                                                                                                                                    </td><td>                                                                                                                                                                                                                                                                                         </td><td>Mlle Fifi / Guy de Maupassant ; eau-forte par Just                                                                                                                                                                                                                                       </td><td>text -- monographie imprimée -- monographie imprimée                                                                                                                                                                                                                                     </td><td> 93.86                                                                                                                                                                                                                                                                                   </td></tr>\n",
       "\t<tr><td>3                                                                                                                                                                                                                                                                                        </td><td>                                                                                                                                                                                                                                                                                         </td><td>Maupassant, Guy de (1850-1893). Auteur du texte                                                                                                                                                                                                                                          </td><td>1884                                                                                                                                                                                                                                                                                     </td><td>Contient une table des matières -- Avec mode texte                                                                                                                                                                                                                                       </td><td>III-348 p. ; in-18 -- Nombre total de vues : 362 -- application/epub+zip                                                                                                                                                                                                                 </td><td>https://gallica.bnf.fr/ark:/12148/bpt6k58416576                                                                                                                                                                                                                                          </td><td>fre -- français                                                                                                                                                                                                                                                                          </td><td>V. Havard (Paris)                                                                                                                                                                                                                                                                        </td><td>Notice du catalogue : http://catalogue.bnf.fr/ark:/12148/cb30910585q                                                                                                                                                                                                                     </td><td>domaine public -- public domain                                                                                                                                                                                                                                                          </td><td>Bibliothèque nationale de France, département Littérature et art, 8-Y2-6879                                                                                                                                                                                                              </td><td>                                                                                                                                                                                                                                                                                         </td><td>Miss Harriet / Guy de Maupassant                                                                                                                                                                                                                                                         </td><td>text -- monographie imprimée -- monographie imprimée                                                                                                                                                                                                                                     </td><td> 99.98                                                                                                                                                                                                                                                                                   </td></tr>\n",
       "\t<tr><td>4                                                                                                                                                                                                                                                                                        </td><td>Normandy, Georges (1882-1946). Éditeur scientifique                                                                                                                                                                                                                                      </td><td>Maupassant, Guy de (1850-1893). Auteur du texte                                                                                                                                                                                                                                          </td><td>1913                                                                                                                                                                                                                                                                                     </td><td>Contient une table des matières -- Avec mode texte                                                                                                                                                                                                                                       </td><td>1 vol. (187 p.) : portr., fac-sim., pl. ; in-16 -- Nombre total de vues : 196                                                                                                                                                                                                            </td><td>https://gallica.bnf.fr/ark:/12148/bpt6k5801596v                                                                                                                                                                                                                                          </td><td>fre -- français                                                                                                                                                                                                                                                                          </td><td>A. Méricant (Paris)                                                                                                                                                                                                                                                                      </td><td>Notice du catalogue : http://catalogue.bnf.fr/ark:/12148/cb365719754                                                                                                                                                                                                                     </td><td>domaine public -- public domain                                                                                                                                                                                                                                                          </td><td>Bibliothèque nationale de France, département Littérature et art, Z BARRES-22799                                                                                                                                                                                                         </td><td>                                                                                                                                                                                                                                                                                         </td><td>Anthologie des auteurs modernes. V, Recueil de morceaux choisis / Guy de Maupassant ; précédé d'une étude... par Georges Normandy...                                                                                                                                                     </td><td>text -- monographie imprimée -- monographie imprimée                                                                                                                                                                                                                                     </td><td> 96.75                                                                                                                                                                                                                                                                                   </td></tr>\n",
       "\t<tr><td>5                                                                                                                                                                                                                                                                                        </td><td>                                                                                                                                                                                                                                                                                         </td><td>Maupassant, Guy de (1850-1893). Auteur du texte                                                                                                                                                                                                                                          </td><td>1883                                                                                                                                                                                                                                                                                     </td><td>[Contes de la bécasse (français)] -- Avec mode texte                                                                                                                                                                                                                                     </td><td>1 vol. (298 p.) ; in-16 -- Nombre total de vues : 313 -- application/epub+zip 3.0 accessible -- Format adaptable de type XML DTBook, 2005-3                                                                                                                                              </td><td>https://gallica.bnf.fr/ark:/12148/bpt6k10407406                                                                                                                                                                                                                                          </td><td>fre -- français                                                                                                                                                                                                                                                                          </td><td>E. Rouveyre et G. Blond (Paris)                                                                                                                                                                                                                                                          </td><td>Notice d’oeuvre : http://catalogue.bnf.fr/ark:/12148/cb12376516m -- Notice du catalogue : http://catalogue.bnf.fr/ark:/12148/cb324318906                                                                                                                                                 </td><td>domaine public -- public domain                                                                                                                                                                                                                                                          </td><td>Bibliothèque nationale de France, département Réserve des livres rares, RES 8-Z DON-595 (61)                                                                                                                                                                                             </td><td>                                                                                                                                                                                                                                                                                         </td><td>Contes de la bécasse. 2è édition (2e édition) / Guy de Maupassant                                                                                                                                                                                                                        </td><td>text -- monographie imprimée -- monographie imprimée                                                                                                                                                                                                                                     </td><td> 99.98                                                                                                                                                                                                                                                                                   </td></tr>\n",
       "\t<tr><td>6                                                                                                                                                                                                                                                                                        </td><td>                                                                                                                                                                                                                                                                                         </td><td>Maupassant, Guy de (1850-1893). Auteur du texte                                                                                                                                                                                                                                          </td><td>1884                                                                                                                                                                                                                                                                                     </td><td>Avec mode texte                                                                                                                                                                                                                                                                          </td><td>1 vol. (145 p.) : fig., pl. en divers états ; in-4 -- Nombre total de vues : 209 -- application/epub+zip 3.0 accessible -- Format adaptable de type XML DTBook, 2005-3                                                                                                                   </td><td>https://gallica.bnf.fr/ark:/12148/bpt6k10407688                                                                                                                                                                                                                                          </td><td>fre -- français                                                                                                                                                                                                                                                                          </td><td>E. Monnier (Paris)                                                                                                                                                                                                                                                                       </td><td>Notice du catalogue : http://catalogue.bnf.fr/ark:/12148/cb309105088                                                                                                                                                                                                                     </td><td>domaine public -- public domain                                                                                                                                                                                                                                                          </td><td>Bibliothèque nationale de France, département Réserve des livres rares, SMITH LESOUEF R-6505                                                                                                                                                                                             </td><td>                                                                                                                                                                                                                                                                                         </td><td>Clair de lune / Guy de Maupassant                                                                                                                                                                                                                                                        </td><td>text -- monographie imprimée -- monographie imprimée                                                                                                                                                                                                                                     </td><td>100.00                                                                                                                                                                                                                                                                                   </td></tr>\n",
       "\t<tr><td>7                                                                                                                                                                                                                                                                                        </td><td>                                                                                                                                                                                                                                                                                         </td><td>Zola, Émile (1840-1902). Auteur du texte -- Maupassant, Guy de (1850-1893). Auteur du texte -- Huysmans, Joris-Karl (1848-1907). Auteur du texte -- Céard, Henry (1851-1924). Auteur du texte -- Hennique, Léon (1851-1935). Auteur du texte -- Alexis, Paul (1847-1901). Auteur du texte</td><td>1880                                                                                                                                                                                                                                                                                     </td><td>Avec mode texte                                                                                                                                                                                                                                                                          </td><td>[6]-295 p. : aquarelles ; in-18 -- Nombre total de vues : 317                                                                                                                                                                                                                            </td><td>https://gallica.bnf.fr/ark:/12148/btv1b86268548                                                                                                                                                                                                                                          </td><td>fre -- français                                                                                                                                                                                                                                                                          </td><td>G. Charpentier (Paris)                                                                                                                                                                                                                                                                   </td><td>Notice du catalogue : http://catalogue.bnf.fr/ark:/12148/cb33607241n                                                                                                                                                                                                                     </td><td>domaine public -- public domain                                                                                                                                                                                                                                                          </td><td>Bibliothèque nationale de France, département Réserve des livres rares, RES 8-Z DON-594 (376)                                                                                                                                                                                            </td><td>                                                                                                                                                                                                                                                                                         </td><td>Les soirées de Médan / Émile Zola, Guy de Maupassant, J. K. Huysmans, Henry Céard, Léon Hennique, Paul Alexis                                                                                                                                                                            </td><td>text -- monographie imprimée -- monographie imprimée                                                                                                                                                                                                                                     </td><td> 99.94                                                                                                                                                                                                                                                                                   </td></tr>\n",
       "</tbody>\n",
       "</table>\n"
      ],
      "text/latex": [
       "\\begin{tabular}{r|llllllllllllllll}\n",
       " recordId & contributor & creator & date & description & format & identifier & language & publisher & relation & rights & source & subject & title & type & nqamoyen\\\\\n",
       "\\hline\n",
       "\t 2                                                                                                                                                                                                                                                                                         &                                                                                                                                                                                                                                                                                           & Maupassant, Guy de (1850-1893). Auteur du texte                                                                                                                                                                                                                                           & 1882                                                                                                                                                                                                                                                                                      & Contient une table des matières -- Avec mode texte                                                                                                                                                                                                                                        & 1 vol. (172 p.) : portrait ; in-16 -- Nombre total de vues : 186                                                                                                                                                                                                                          & https://gallica.bnf.fr/ark:/12148/bpt6k5680846d                                                                                                                                                                                                                                           & fre -- français                                                                                                                                                                                                                                                                           & H. Kistemaeckers (Bruxelles)                                                                                                                                                                                                                                                              & Notice du catalogue : http://catalogue.bnf.fr/ark:/12148/cb324319162                                                                                                                                                                                                                      & domaine public -- public domain                                                                                                                                                                                                                                                           & Bibliothèque nationale de France, département Réserve des livres rares, RES P-Y2-2092                                                                                                                                                                                                     &                                                                                                                                                                                                                                                                                           & Mlle Fifi / Guy de Maupassant ; eau-forte par Just                                                                                                                                                                                                                                        & text -- monographie imprimée -- monographie imprimée                                                                                                                                                                                                                                      &  93.86                                                                                                                                                                                                                                                                                   \\\\\n",
       "\t 3                                                                                                                                                                                                                                                                                         &                                                                                                                                                                                                                                                                                           & Maupassant, Guy de (1850-1893). Auteur du texte                                                                                                                                                                                                                                           & 1884                                                                                                                                                                                                                                                                                      & Contient une table des matières -- Avec mode texte                                                                                                                                                                                                                                        & III-348 p. ; in-18 -- Nombre total de vues : 362 -- application/epub+zip                                                                                                                                                                                                                  & https://gallica.bnf.fr/ark:/12148/bpt6k58416576                                                                                                                                                                                                                                           & fre -- français                                                                                                                                                                                                                                                                           & V. Havard (Paris)                                                                                                                                                                                                                                                                         & Notice du catalogue : http://catalogue.bnf.fr/ark:/12148/cb30910585q                                                                                                                                                                                                                      & domaine public -- public domain                                                                                                                                                                                                                                                           & Bibliothèque nationale de France, département Littérature et art, 8-Y2-6879                                                                                                                                                                                                               &                                                                                                                                                                                                                                                                                           & Miss Harriet / Guy de Maupassant                                                                                                                                                                                                                                                          & text -- monographie imprimée -- monographie imprimée                                                                                                                                                                                                                                      &  99.98                                                                                                                                                                                                                                                                                   \\\\\n",
       "\t 4                                                                                                                                                                                                                                                                                         & Normandy, Georges (1882-1946). Éditeur scientifique                                                                                                                                                                                                                                       & Maupassant, Guy de (1850-1893). Auteur du texte                                                                                                                                                                                                                                           & 1913                                                                                                                                                                                                                                                                                      & Contient une table des matières -- Avec mode texte                                                                                                                                                                                                                                        & 1 vol. (187 p.) : portr., fac-sim., pl. ; in-16 -- Nombre total de vues : 196                                                                                                                                                                                                             & https://gallica.bnf.fr/ark:/12148/bpt6k5801596v                                                                                                                                                                                                                                           & fre -- français                                                                                                                                                                                                                                                                           & A. Méricant (Paris)                                                                                                                                                                                                                                                                       & Notice du catalogue : http://catalogue.bnf.fr/ark:/12148/cb365719754                                                                                                                                                                                                                      & domaine public -- public domain                                                                                                                                                                                                                                                           & Bibliothèque nationale de France, département Littérature et art, Z BARRES-22799                                                                                                                                                                                                          &                                                                                                                                                                                                                                                                                           & Anthologie des auteurs modernes. V, Recueil de morceaux choisis / Guy de Maupassant ; précédé d'une étude... par Georges Normandy...                                                                                                                                                      & text -- monographie imprimée -- monographie imprimée                                                                                                                                                                                                                                      &  96.75                                                                                                                                                                                                                                                                                   \\\\\n",
       "\t 5                                                                                                                                                                                                                                                                                         &                                                                                                                                                                                                                                                                                           & Maupassant, Guy de (1850-1893). Auteur du texte                                                                                                                                                                                                                                           & 1883                                                                                                                                                                                                                                                                                      & {[}Contes de la bécasse (français){]} -- Avec mode texte                                                                                                                                                                                                                                  & 1 vol. (298 p.) ; in-16 -- Nombre total de vues : 313 -- application/epub+zip 3.0 accessible -- Format adaptable de type XML DTBook, 2005-3                                                                                                                                               & https://gallica.bnf.fr/ark:/12148/bpt6k10407406                                                                                                                                                                                                                                           & fre -- français                                                                                                                                                                                                                                                                           & E. Rouveyre et G. Blond (Paris)                                                                                                                                                                                                                                                           & Notice d’oeuvre : http://catalogue.bnf.fr/ark:/12148/cb12376516m -- Notice du catalogue : http://catalogue.bnf.fr/ark:/12148/cb324318906                                                                                                                                                  & domaine public -- public domain                                                                                                                                                                                                                                                           & Bibliothèque nationale de France, département Réserve des livres rares, RES 8-Z DON-595 (61)                                                                                                                                                                                              &                                                                                                                                                                                                                                                                                           & Contes de la bécasse. 2è édition (2e édition) / Guy de Maupassant                                                                                                                                                                                                                         & text -- monographie imprimée -- monographie imprimée                                                                                                                                                                                                                                      &  99.98                                                                                                                                                                                                                                                                                   \\\\\n",
       "\t 6                                                                                                                                                                                                                                                                                         &                                                                                                                                                                                                                                                                                           & Maupassant, Guy de (1850-1893). Auteur du texte                                                                                                                                                                                                                                           & 1884                                                                                                                                                                                                                                                                                      & Avec mode texte                                                                                                                                                                                                                                                                           & 1 vol. (145 p.) : fig., pl. en divers états ; in-4 -- Nombre total de vues : 209 -- application/epub+zip 3.0 accessible -- Format adaptable de type XML DTBook, 2005-3                                                                                                                    & https://gallica.bnf.fr/ark:/12148/bpt6k10407688                                                                                                                                                                                                                                           & fre -- français                                                                                                                                                                                                                                                                           & E. Monnier (Paris)                                                                                                                                                                                                                                                                        & Notice du catalogue : http://catalogue.bnf.fr/ark:/12148/cb309105088                                                                                                                                                                                                                      & domaine public -- public domain                                                                                                                                                                                                                                                           & Bibliothèque nationale de France, département Réserve des livres rares, SMITH LESOUEF R-6505                                                                                                                                                                                              &                                                                                                                                                                                                                                                                                           & Clair de lune / Guy de Maupassant                                                                                                                                                                                                                                                         & text -- monographie imprimée -- monographie imprimée                                                                                                                                                                                                                                      & 100.00                                                                                                                                                                                                                                                                                   \\\\\n",
       "\t 7                                                                                                                                                                                                                                                                                         &                                                                                                                                                                                                                                                                                           & Zola, Émile (1840-1902). Auteur du texte -- Maupassant, Guy de (1850-1893). Auteur du texte -- Huysmans, Joris-Karl (1848-1907). Auteur du texte -- Céard, Henry (1851-1924). Auteur du texte -- Hennique, Léon (1851-1935). Auteur du texte -- Alexis, Paul (1847-1901). Auteur du texte & 1880                                                                                                                                                                                                                                                                                      & Avec mode texte                                                                                                                                                                                                                                                                           & {[}6{]}-295 p. : aquarelles ; in-18 -- Nombre total de vues : 317                                                                                                                                                                                                                         & https://gallica.bnf.fr/ark:/12148/btv1b86268548                                                                                                                                                                                                                                           & fre -- français                                                                                                                                                                                                                                                                           & G. Charpentier (Paris)                                                                                                                                                                                                                                                                    & Notice du catalogue : http://catalogue.bnf.fr/ark:/12148/cb33607241n                                                                                                                                                                                                                      & domaine public -- public domain                                                                                                                                                                                                                                                           & Bibliothèque nationale de France, département Réserve des livres rares, RES 8-Z DON-594 (376)                                                                                                                                                                                             &                                                                                                                                                                                                                                                                                           & Les soirées de Médan / Émile Zola, Guy de Maupassant, J. K. Huysmans, Henry Céard, Léon Hennique, Paul Alexis                                                                                                                                                                             & text -- monographie imprimée -- monographie imprimée                                                                                                                                                                                                                                      &  99.94                                                                                                                                                                                                                                                                                   \\\\\n",
       "\\end{tabular}\n"
      ],
      "text/markdown": [
       "\n",
       "| recordId | contributor | creator | date | description | format | identifier | language | publisher | relation | rights | source | subject | title | type | nqamoyen |\n",
       "|---|---|---|---|---|---|---|---|---|---|---|---|---|---|---|---|\n",
       "| 2                                                                                                                                                                                                                                                                                         |                                                                                                                                                                                                                                                                                           | Maupassant, Guy de (1850-1893). Auteur du texte                                                                                                                                                                                                                                           | 1882                                                                                                                                                                                                                                                                                      | Contient une table des matières -- Avec mode texte                                                                                                                                                                                                                                        | 1 vol. (172 p.) : portrait ; in-16 -- Nombre total de vues : 186                                                                                                                                                                                                                          | https://gallica.bnf.fr/ark:/12148/bpt6k5680846d                                                                                                                                                                                                                                           | fre -- français                                                                                                                                                                                                                                                                           | H. Kistemaeckers (Bruxelles)                                                                                                                                                                                                                                                              | Notice du catalogue : http://catalogue.bnf.fr/ark:/12148/cb324319162                                                                                                                                                                                                                      | domaine public -- public domain                                                                                                                                                                                                                                                           | Bibliothèque nationale de France, département Réserve des livres rares, RES P-Y2-2092                                                                                                                                                                                                     |                                                                                                                                                                                                                                                                                           | Mlle Fifi / Guy de Maupassant ; eau-forte par Just                                                                                                                                                                                                                                        | text -- monographie imprimée -- monographie imprimée                                                                                                                                                                                                                                      |  93.86                                                                                                                                                                                                                                                                                    |\n",
       "| 3                                                                                                                                                                                                                                                                                         |                                                                                                                                                                                                                                                                                           | Maupassant, Guy de (1850-1893). Auteur du texte                                                                                                                                                                                                                                           | 1884                                                                                                                                                                                                                                                                                      | Contient une table des matières -- Avec mode texte                                                                                                                                                                                                                                        | III-348 p. ; in-18 -- Nombre total de vues : 362 -- application/epub+zip                                                                                                                                                                                                                  | https://gallica.bnf.fr/ark:/12148/bpt6k58416576                                                                                                                                                                                                                                           | fre -- français                                                                                                                                                                                                                                                                           | V. Havard (Paris)                                                                                                                                                                                                                                                                         | Notice du catalogue : http://catalogue.bnf.fr/ark:/12148/cb30910585q                                                                                                                                                                                                                      | domaine public -- public domain                                                                                                                                                                                                                                                           | Bibliothèque nationale de France, département Littérature et art, 8-Y2-6879                                                                                                                                                                                                               |                                                                                                                                                                                                                                                                                           | Miss Harriet / Guy de Maupassant                                                                                                                                                                                                                                                          | text -- monographie imprimée -- monographie imprimée                                                                                                                                                                                                                                      |  99.98                                                                                                                                                                                                                                                                                    |\n",
       "| 4                                                                                                                                                                                                                                                                                         | Normandy, Georges (1882-1946). Éditeur scientifique                                                                                                                                                                                                                                       | Maupassant, Guy de (1850-1893). Auteur du texte                                                                                                                                                                                                                                           | 1913                                                                                                                                                                                                                                                                                      | Contient une table des matières -- Avec mode texte                                                                                                                                                                                                                                        | 1 vol. (187 p.) : portr., fac-sim., pl. ; in-16 -- Nombre total de vues : 196                                                                                                                                                                                                             | https://gallica.bnf.fr/ark:/12148/bpt6k5801596v                                                                                                                                                                                                                                           | fre -- français                                                                                                                                                                                                                                                                           | A. Méricant (Paris)                                                                                                                                                                                                                                                                       | Notice du catalogue : http://catalogue.bnf.fr/ark:/12148/cb365719754                                                                                                                                                                                                                      | domaine public -- public domain                                                                                                                                                                                                                                                           | Bibliothèque nationale de France, département Littérature et art, Z BARRES-22799                                                                                                                                                                                                          |                                                                                                                                                                                                                                                                                           | Anthologie des auteurs modernes. V, Recueil de morceaux choisis / Guy de Maupassant ; précédé d'une étude... par Georges Normandy...                                                                                                                                                      | text -- monographie imprimée -- monographie imprimée                                                                                                                                                                                                                                      |  96.75                                                                                                                                                                                                                                                                                    |\n",
       "| 5                                                                                                                                                                                                                                                                                         |                                                                                                                                                                                                                                                                                           | Maupassant, Guy de (1850-1893). Auteur du texte                                                                                                                                                                                                                                           | 1883                                                                                                                                                                                                                                                                                      | [Contes de la bécasse (français)] -- Avec mode texte                                                                                                                                                                                                                                      | 1 vol. (298 p.) ; in-16 -- Nombre total de vues : 313 -- application/epub+zip 3.0 accessible -- Format adaptable de type XML DTBook, 2005-3                                                                                                                                               | https://gallica.bnf.fr/ark:/12148/bpt6k10407406                                                                                                                                                                                                                                           | fre -- français                                                                                                                                                                                                                                                                           | E. Rouveyre et G. Blond (Paris)                                                                                                                                                                                                                                                           | Notice d’oeuvre : http://catalogue.bnf.fr/ark:/12148/cb12376516m -- Notice du catalogue : http://catalogue.bnf.fr/ark:/12148/cb324318906                                                                                                                                                  | domaine public -- public domain                                                                                                                                                                                                                                                           | Bibliothèque nationale de France, département Réserve des livres rares, RES 8-Z DON-595 (61)                                                                                                                                                                                              |                                                                                                                                                                                                                                                                                           | Contes de la bécasse. 2è édition (2e édition) / Guy de Maupassant                                                                                                                                                                                                                         | text -- monographie imprimée -- monographie imprimée                                                                                                                                                                                                                                      |  99.98                                                                                                                                                                                                                                                                                    |\n",
       "| 6                                                                                                                                                                                                                                                                                         |                                                                                                                                                                                                                                                                                           | Maupassant, Guy de (1850-1893). Auteur du texte                                                                                                                                                                                                                                           | 1884                                                                                                                                                                                                                                                                                      | Avec mode texte                                                                                                                                                                                                                                                                           | 1 vol. (145 p.) : fig., pl. en divers états ; in-4 -- Nombre total de vues : 209 -- application/epub+zip 3.0 accessible -- Format adaptable de type XML DTBook, 2005-3                                                                                                                    | https://gallica.bnf.fr/ark:/12148/bpt6k10407688                                                                                                                                                                                                                                           | fre -- français                                                                                                                                                                                                                                                                           | E. Monnier (Paris)                                                                                                                                                                                                                                                                        | Notice du catalogue : http://catalogue.bnf.fr/ark:/12148/cb309105088                                                                                                                                                                                                                      | domaine public -- public domain                                                                                                                                                                                                                                                           | Bibliothèque nationale de France, département Réserve des livres rares, SMITH LESOUEF R-6505                                                                                                                                                                                              |                                                                                                                                                                                                                                                                                           | Clair de lune / Guy de Maupassant                                                                                                                                                                                                                                                         | text -- monographie imprimée -- monographie imprimée                                                                                                                                                                                                                                      | 100.00                                                                                                                                                                                                                                                                                    |\n",
       "| 7                                                                                                                                                                                                                                                                                         |                                                                                                                                                                                                                                                                                           | Zola, Émile (1840-1902). Auteur du texte -- Maupassant, Guy de (1850-1893). Auteur du texte -- Huysmans, Joris-Karl (1848-1907). Auteur du texte -- Céard, Henry (1851-1924). Auteur du texte -- Hennique, Léon (1851-1935). Auteur du texte -- Alexis, Paul (1847-1901). Auteur du texte | 1880                                                                                                                                                                                                                                                                                      | Avec mode texte                                                                                                                                                                                                                                                                           | [6]-295 p. : aquarelles ; in-18 -- Nombre total de vues : 317                                                                                                                                                                                                                             | https://gallica.bnf.fr/ark:/12148/btv1b86268548                                                                                                                                                                                                                                           | fre -- français                                                                                                                                                                                                                                                                           | G. Charpentier (Paris)                                                                                                                                                                                                                                                                    | Notice du catalogue : http://catalogue.bnf.fr/ark:/12148/cb33607241n                                                                                                                                                                                                                      | domaine public -- public domain                                                                                                                                                                                                                                                           | Bibliothèque nationale de France, département Réserve des livres rares, RES 8-Z DON-594 (376)                                                                                                                                                                                             |                                                                                                                                                                                                                                                                                           | Les soirées de Médan / Émile Zola, Guy de Maupassant, J. K. Huysmans, Henry Céard, Léon Hennique, Paul Alexis                                                                                                                                                                             | text -- monographie imprimée -- monographie imprimée                                                                                                                                                                                                                                      |  99.94                                                                                                                                                                                                                                                                                    |\n",
       "\n"
      ],
      "text/plain": [
       "  recordId contributor                                        \n",
       "1 2                                                           \n",
       "2 3                                                           \n",
       "3 4        Normandy, Georges (1882-1946). Éditeur scientifique\n",
       "4 5                                                           \n",
       "5 6                                                           \n",
       "6 7                                                           \n",
       "  creator                                                                                                                                                                                                                                                                                  \n",
       "1 Maupassant, Guy de (1850-1893). Auteur du texte                                                                                                                                                                                                                                          \n",
       "2 Maupassant, Guy de (1850-1893). Auteur du texte                                                                                                                                                                                                                                          \n",
       "3 Maupassant, Guy de (1850-1893). Auteur du texte                                                                                                                                                                                                                                          \n",
       "4 Maupassant, Guy de (1850-1893). Auteur du texte                                                                                                                                                                                                                                          \n",
       "5 Maupassant, Guy de (1850-1893). Auteur du texte                                                                                                                                                                                                                                          \n",
       "6 Zola, Émile (1840-1902). Auteur du texte -- Maupassant, Guy de (1850-1893). Auteur du texte -- Huysmans, Joris-Karl (1848-1907). Auteur du texte -- Céard, Henry (1851-1924). Auteur du texte -- Hennique, Léon (1851-1935). Auteur du texte -- Alexis, Paul (1847-1901). Auteur du texte\n",
       "  date description                                         \n",
       "1 1882 Contient une table des matières -- Avec mode texte  \n",
       "2 1884 Contient une table des matières -- Avec mode texte  \n",
       "3 1913 Contient une table des matières -- Avec mode texte  \n",
       "4 1883 [Contes de la bécasse (français)] -- Avec mode texte\n",
       "5 1884 Avec mode texte                                     \n",
       "6 1880 Avec mode texte                                     \n",
       "  format                                                                                                                                                                \n",
       "1 1 vol. (172 p.) : portrait ; in-16 -- Nombre total de vues : 186                                                                                                      \n",
       "2 III-348 p. ; in-18 -- Nombre total de vues : 362 -- application/epub+zip                                                                                              \n",
       "3 1 vol. (187 p.) : portr., fac-sim., pl. ; in-16 -- Nombre total de vues : 196                                                                                         \n",
       "4 1 vol. (298 p.) ; in-16 -- Nombre total de vues : 313 -- application/epub+zip 3.0 accessible -- Format adaptable de type XML DTBook, 2005-3                           \n",
       "5 1 vol. (145 p.) : fig., pl. en divers états ; in-4 -- Nombre total de vues : 209 -- application/epub+zip 3.0 accessible -- Format adaptable de type XML DTBook, 2005-3\n",
       "6 [6]-295 p. : aquarelles ; in-18 -- Nombre total de vues : 317                                                                                                         \n",
       "  identifier                                      language       \n",
       "1 https://gallica.bnf.fr/ark:/12148/bpt6k5680846d fre -- français\n",
       "2 https://gallica.bnf.fr/ark:/12148/bpt6k58416576 fre -- français\n",
       "3 https://gallica.bnf.fr/ark:/12148/bpt6k5801596v fre -- français\n",
       "4 https://gallica.bnf.fr/ark:/12148/bpt6k10407406 fre -- français\n",
       "5 https://gallica.bnf.fr/ark:/12148/bpt6k10407688 fre -- français\n",
       "6 https://gallica.bnf.fr/ark:/12148/btv1b86268548 fre -- français\n",
       "  publisher                      \n",
       "1 H. Kistemaeckers (Bruxelles)   \n",
       "2 V. Havard (Paris)              \n",
       "3 A. Méricant (Paris)            \n",
       "4 E. Rouveyre et G. Blond (Paris)\n",
       "5 E. Monnier (Paris)             \n",
       "6 G. Charpentier (Paris)         \n",
       "  relation                                                                                                                                \n",
       "1 Notice du catalogue : http://catalogue.bnf.fr/ark:/12148/cb324319162                                                                    \n",
       "2 Notice du catalogue : http://catalogue.bnf.fr/ark:/12148/cb30910585q                                                                    \n",
       "3 Notice du catalogue : http://catalogue.bnf.fr/ark:/12148/cb365719754                                                                    \n",
       "4 Notice d’oeuvre : http://catalogue.bnf.fr/ark:/12148/cb12376516m -- Notice du catalogue : http://catalogue.bnf.fr/ark:/12148/cb324318906\n",
       "5 Notice du catalogue : http://catalogue.bnf.fr/ark:/12148/cb309105088                                                                    \n",
       "6 Notice du catalogue : http://catalogue.bnf.fr/ark:/12148/cb33607241n                                                                    \n",
       "  rights                         \n",
       "1 domaine public -- public domain\n",
       "2 domaine public -- public domain\n",
       "3 domaine public -- public domain\n",
       "4 domaine public -- public domain\n",
       "5 domaine public -- public domain\n",
       "6 domaine public -- public domain\n",
       "  source                                                                                       \n",
       "1 Bibliothèque nationale de France, département Réserve des livres rares, RES P-Y2-2092        \n",
       "2 Bibliothèque nationale de France, département Littérature et art, 8-Y2-6879                  \n",
       "3 Bibliothèque nationale de France, département Littérature et art, Z BARRES-22799             \n",
       "4 Bibliothèque nationale de France, département Réserve des livres rares, RES 8-Z DON-595 (61) \n",
       "5 Bibliothèque nationale de France, département Réserve des livres rares, SMITH LESOUEF R-6505 \n",
       "6 Bibliothèque nationale de France, département Réserve des livres rares, RES 8-Z DON-594 (376)\n",
       "  subject\n",
       "1        \n",
       "2        \n",
       "3        \n",
       "4        \n",
       "5        \n",
       "6        \n",
       "  title                                                                                                                               \n",
       "1 Mlle Fifi / Guy de Maupassant ; eau-forte par Just                                                                                  \n",
       "2 Miss Harriet / Guy de Maupassant                                                                                                    \n",
       "3 Anthologie des auteurs modernes. V, Recueil de morceaux choisis / Guy de Maupassant ; précédé d'une étude... par Georges Normandy...\n",
       "4 Contes de la bécasse. 2è édition (2e édition) / Guy de Maupassant                                                                   \n",
       "5 Clair de lune / Guy de Maupassant                                                                                                   \n",
       "6 Les soirées de Médan / Émile Zola, Guy de Maupassant, J. K. Huysmans, Henry Céard, Léon Hennique, Paul Alexis                       \n",
       "  type                                                 nqamoyen\n",
       "1 text -- monographie imprimée -- monographie imprimée  93.86  \n",
       "2 text -- monographie imprimée -- monographie imprimée  99.98  \n",
       "3 text -- monographie imprimée -- monographie imprimée  96.75  \n",
       "4 text -- monographie imprimée -- monographie imprimée  99.98  \n",
       "5 text -- monographie imprimée -- monographie imprimée 100.00  \n",
       "6 text -- monographie imprimée -- monographie imprimée  99.94  "
      ]
     },
     "metadata": {},
     "output_type": "display_data"
    }
   ],
   "source": [
    "head(works)"
   ]
  },
  {
   "cell_type": "code",
   "execution_count": 18,
   "metadata": {},
   "outputs": [],
   "source": [
    "## Sauvegarde pour réutilisation plus tard :\n",
    "\n",
    "write.csv(works, \"../Metadonnees.csv\")"
   ]
  },
  {
   "cell_type": "code",
   "execution_count": 11,
   "metadata": {},
   "outputs": [
    {
     "name": "stderr",
     "output_type": "stream",
     "text": [
      "\n",
      "Attaching package: ‘rvest’\n",
      "\n",
      "The following object is masked from ‘package:purrr’:\n",
      "\n",
      "    pluck\n",
      "\n",
      "Warning message:\n",
      "“`data_frame()` is deprecated as of tibble 1.1.0.\n",
      "Please use `tibble()` instead.\n",
      "This warning is displayed once every 8 hours.\n",
      "Call `lifecycle::last_warnings()` to see where this warning was generated.”"
     ]
    }
   ],
   "source": [
    "library(rvest)\n",
    "\n",
    "i = 1\n",
    "\n",
    "# Fonction pour récupérer le texte brut (OCR document par document)\n",
    "texteBrut <- function(i){\n",
    "  tem <- works %>% \n",
    "    filter(recordId == i)\n",
    "  contenu <-  tem %>% \n",
    "    pull(identifier) %>%\n",
    "    paste0(., '.texteBrut') %>%\n",
    "    read_html() %>%\n",
    "    html_nodes('p') %>%\n",
    "    html_text() %>%\n",
    "    paste0(collapse = \"\\n\") %>%\n",
    "    stringr::str_split(\"En savoir plus sur l'OCR\", n = 2, simplify = TRUE)\n",
    "  readr::write_csv(data_frame(identifier = tem$identifier, entete = contenu[1,1],\n",
    "                              texteBrut = contenu[1,2],\n",
    "                              recordId = tem$recordId), paste0('docs_ocr/', tem$recordId, '.csv')) \n",
    "                                                                # Choix du chemin de destination des csv\n",
    "}\n",
    "\n",
    "texteBrut(84) # Nombre de documents océrisés à récupérer. Cf. sortie nrow(works)"
   ]
  },
  {
   "cell_type": "markdown",
   "metadata": {},
   "source": [
    "---\n",
    "\n",
    "   - Export document par document en csv avec : ark, entete, texteOCR\n",
    "\n",
    "Prend du temps. On peut aller dans le dossier de destination pour voir l'avancée."
   ]
  },
  {
   "cell_type": "code",
   "execution_count": 12,
   "metadata": {},
   "outputs": [],
   "source": [
    "deja_ok <- list.files('data/docs_ocr/') %>% \n",
    "  stringr::str_remove('\\\\.csv') %>% \n",
    "  as.integer\n",
    "\n",
    "todo <- unique(works$recordId)  %>% \n",
    "  .[!(. %in% deja_ok)]\n",
    "todo <- todo %>% sort()\n",
    "\n",
    "todo <- todo %>% purrr::map(purrr::possibly(texteBrut, otherwise = NULL))"
   ]
  },
  {
   "cell_type": "markdown",
   "metadata": {},
   "source": [
    "## Fin du notebook :\n",
    "\n",
    "   - Récupération des OCR : FAIT.\n",
    "   - Passage aux analyses et visualisations."
   ]
  },
  {
   "cell_type": "code",
   "execution_count": null,
   "metadata": {},
   "outputs": [],
   "source": []
  }
 ],
 "metadata": {
  "kernelspec": {
   "display_name": "R",
   "language": "R",
   "name": "ir"
  },
  "language_info": {
   "codemirror_mode": "r",
   "file_extension": ".r",
   "mimetype": "text/x-r-source",
   "name": "R",
   "pygments_lexer": "r",
   "version": "3.6.1"
  }
 },
 "nbformat": 4,
 "nbformat_minor": 4
}
