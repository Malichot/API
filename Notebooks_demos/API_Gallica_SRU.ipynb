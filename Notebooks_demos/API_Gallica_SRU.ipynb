{
 "cells": [
  {
   "cell_type": "markdown",
   "id": "first-captain",
   "metadata": {
    "id": "first-captain"
   },
   "source": [
    "## API Gallica SRU :  <i>Les trois mousquetaires</i>"
   ]
  },
  {
   "cell_type": "markdown",
   "id": "7Ucsl0ibiTwY",
   "metadata": {
    "id": "7Ucsl0ibiTwY"
   },
   "source": [
    "Le script suit le scénario de recherche documentaire décrit dans ce [tutoriel vidéo](https://www.youtube.com/watch?v=SF0Yx0Tg8vA) Gallica."
   ]
  },
  {
   "cell_type": "markdown",
   "id": "extreme-alloy",
   "metadata": {
    "id": "extreme-alloy"
   },
   "source": [
    "### 1. Construire la requête et appeler l'API SRU Gallica"
   ]
  },
  {
   "cell_type": "code",
   "execution_count": 98,
   "id": "known-country",
   "metadata": {
    "colab": {
     "base_uri": "https://localhost:8080/"
    },
    "id": "known-country",
    "outputId": "85d7f927-2397-46ee-f9ee-040bb1a676a8"
   },
   "outputs": [
    {
     "name": "stdout",
     "output_type": "stream",
     "text": [
      "... extraction de la page de résultats # 1\n",
      "... appel de l'API Gallica SRU :  https://gallica.bnf.fr/SRU?version=1.2&operation=searchRetrieve&query=%28%28dc.creator%20all%20%22Dumas%2C%20Alexandre%22%20or%20dc.contributor%20all%20%22Dumas%2C%20Alexandre%22%20%29%20and%20dc.title%20all%20%22les%20trois%20mousquetaires%22%20%29%20and%20%28dc.type%20all%20%22monographie%22%29&maximumRecords=50&collapsing=true&startRecord=1\n",
      "<?xml version=\"1.0\" encoding=\"UTF-8\" standalone=\"yes\"?>\n",
      "<srw:searchRetrieveResponse xmlns:ns5=\"http://gallica.bnf.fr/namespaces/gallica/\" xmlns:oai_dc=\"http://www.openarchives.org/OAI/2.0/oai_dc/\" xmlns:srw=\"http://www.loc.gov/zing/srw/\" xmlns:dc=\"http://purl.org/dc/elements/1.1/\">\n",
      "    <srw:version>1.2</srw:version>\n",
      "    <srw:echoedSearchRetrieveRequest>\n",
      "        <srw:query>((dc.creator all \"Dumas, Alexandre\" or dc.contributor all \"Dumas, Alexandre\" ) and dc.title all \"les trois mousquetaires\" ) and (dc.type all \"monographie\")</srw:query>\n",
      "        <srw:version>1.2</srw:version>\n",
      "    </srw:echoedSearchRetrieveRequest>\n",
      "    <srw:numberOfRecords>11</srw:numberOfRecords>\n",
      "    <srw:extraResponseData>&lt;numberOfRecordsDecollapser&gt;55&lt;/numberOfRecordsDecollapser&gt;</srw:extraResponseData>\n",
      "    <srw:records>\n",
      "        <srw:record>\n",
      "            <srw:recordSchema>http://www.openarchives.org/OAI/2.0/OAIdc.xsd</srw:recordSchema>\n",
      "            <srw:recordPacking>xml</srw:recordPacking>\n",
      "            <srw:\n"
     ]
    }
   ],
   "source": [
    "# URL de base du service Gallica SRU\n",
    "BASEURL = 'https://gallica.bnf.fr/SRU?version=1.2&operation=searchRetrieve&query='\n",
    "# L'API SRU renvoie au maximum 50 documents par appel\n",
    "MODULE = 50\n",
    "# Mode d'agrégation des résultats : ne pas agréger les documents multivolumes\n",
    "COLLAPSING = \"false\"\n",
    "\n",
    "## Exemple de requête pour \"Les trois mousquetaires\" ##\n",
    "# 1. Construire la requête Gallica en s'aidant du formulaire de recherche avancé de Gallica\n",
    "#  titre = Les trois mousquetaires\n",
    "#  auteur = Dumas, Alexandre\n",
    "#  type = Livres\n",
    "#  liste = Au volume/fascicule\n",
    "# 2. Lancer la requête\n",
    "# 3. Dans l'URL Gallica, recopier la requête CQL qui suit le paramètre query=  \n",
    "query = '%28%28dc.creator%20all%20%22Dumas%2C%20Alexandre%22%20or%20dc.contributor%20all%20%22Dumas%2C%20Alexandre%22%20%29%20and%20dc.title%20all%20%22les%20trois%20mousquetaires%22%20%29%20and%20%28dc.type%20all%20%22monographie%22%29'\n",
    "\n",
    "# construire la reuqête avec ses paramètres\n",
    "req_url = \"\".join([BASEURL, query, \"&maximumRecords=\", str(MODULE), \"&collapsing=\", COLLAPSING])\n",
    "\n",
    "\n",
    "import requests\n",
    "\n",
    "# Appel de l'API SRU avec le système de pagination : i = [1-n]\n",
    "def getXML_from_SRU(indice):\n",
    "    req = \"\".join([req_url,\"&startRecord=\",str(indice)])\n",
    "    print (\"... appel de l'API Gallica SRU : \", req)\n",
    "    temp = requests.get(req)\n",
    "    #print (temp.status_code)\n",
    "    if temp.status_code != 200:\n",
    "        print (\"... oups, erreur API:\", temp.status_code)\n",
    "        return\n",
    "    else:\n",
    "        return temp\n",
    "\n",
    "print (\"... extraction de la page de résultats #\", 1)\n",
    "r = getXML_from_SRU(1)        \n",
    "if r is not None:\n",
    "    print (r.text[0:1000])"
   ]
  },
  {
   "cell_type": "markdown",
   "id": "senior-success",
   "metadata": {
    "id": "senior-success"
   },
   "source": [
    "### 2. Parser le flux XML pour obtenir les données"
   ]
  },
  {
   "cell_type": "markdown",
   "id": "eight-captain",
   "metadata": {},
   "source": [
    "#### a. Il faut d'abord obtenir le nombre de documents "
   ]
  },
  {
   "cell_type": "code",
   "execution_count": 99,
   "id": "cooperative-ratio",
   "metadata": {
    "colab": {
     "base_uri": "https://localhost:8080/"
    },
    "id": "cooperative-ratio",
    "outputId": "275f64dd-f342-4869-ad42-3fc887d7d345"
   },
   "outputs": [
    {
     "name": "stdout",
     "output_type": "stream",
     "text": [
      "Nombre de résultats :  11\n"
     ]
    }
   ],
   "source": [
    "from bs4 import BeautifulSoup as bs\n",
    "bs_content = bs(r.text, \"xml\") # bizarre : avec le parser xml, on perd la fin du contenu XML ...\n",
    "#bs_content = bs(r.text, \"lxml\") # par contre lxml ne fonctionne pas sur srw:numberOfRecords !\n",
    "\n",
    "# Extraire le nombre de résultats\n",
    "n_docs = int(bs_content.find(\"srw:numberOfRecords\").getText())\n",
    "print(\"Nombre de résultats : \", n_docs)"
   ]
  },
  {
   "cell_type": "markdown",
   "id": "tBRIfODmM98X",
   "metadata": {
    "id": "tBRIfODmM98X"
   },
   "source": [
    "#### b. Il faut maintenant paginer le flot XML restant"
   ]
  },
  {
   "cell_type": "code",
   "execution_count": 100,
   "id": "8zRgcO0VDv2b",
   "metadata": {
    "colab": {
     "base_uri": "https://localhost:8080/",
     "height": 502
    },
    "id": "8zRgcO0VDv2b",
    "outputId": "0e32df82-6d8f-4ea7-9a85-aba5241efa4b"
   },
   "outputs": [
    {
     "name": "stdout",
     "output_type": "stream",
     "text": [
      "------------\n",
      "Nbre total d'identifiants de document :  11\n",
      "bpt6k55511660\n",
      "bpt6k9661806g\n",
      "bpt6k61336787\n",
      "bpt6k1073528t\n",
      "bpt6k55894240\n",
      "bpt6k61407607\n",
      "bpt6k202872k\n",
      "bpt6k1166645k\n",
      "bpt6k690847\n",
      "bpt6k61386425\n",
      "bpt6k1521259j\n"
     ]
    }
   ],
   "source": [
    "bs_content = bs(r.text, \"lxml\")\n",
    "\n",
    "# si besoin, on pagine la suite\n",
    "if n_docs > MODULE:\n",
    "    print (n_docs)\n",
    "    # Ajouter au document xml toutes les réponses des autres pages\n",
    "    for i in range(1, int(n_docs/MODULE)+1):\n",
    "        print (\"Extraction de la page de résultats #\", i+1) \n",
    "        print (\"    startRecord : \", i*MODULE+1)\n",
    "        temp = getXML_from_SRU(i*MODULE+1)\n",
    "        temp_xml = bs(temp.text, \"lxml\")\n",
    "        bs_content.append(temp_xml)\n",
    "\n",
    "print (\"------------\")        \n",
    "print(\"Nbre total d'identifiants de document : \",len(bs_content.find_all(\"dc:identifier\")))\n",
    "for ark in bs_content.find_all(\"uri\"):\n",
    "    print(ark.get_text())"
   ]
  },
  {
   "cell_type": "markdown",
   "id": "martial-boxing",
   "metadata": {},
   "source": [
    "#### C. Exploitation des données XML"
   ]
  },
  {
   "cell_type": "code",
   "execution_count": 101,
   "id": "illegal-serum",
   "metadata": {},
   "outputs": [
    {
     "name": "stdout",
     "output_type": "stream",
     "text": [
      "Les trois mousquetaires / [par Alexandre Dumas]\n",
      "Les trois mousquetaires. Tome 1 / Alexandre Dumas ; avec une lettre d'Alexandre Dumas fils ; compositions de Maurice Leloir, gravures sur bois de J. Huyot,...\n",
      "Les Trois mousquetaires, par M. Alexandre Dumas\n",
      "Les Trois mousquetaires. Tome 7-8 / par Alexandre Dumas\n",
      "Les trois mousquetaires ; Vingt ans après ; Vicomte de Bragelonne. 1 / Alexandre Dumas\n",
      "Vingt ans après, suite des \"Trois mousquetaires. Tome 3 / par Alexandre Dumas\n",
      "Oeuvres illustrées ; 1. Les trois mousquetaires. 1, 2 / par Alexandre Dumas ; ill. par J. A. Beaucé, F. Philippoteaux, etc.\n",
      "Trois mousquetaires.... Partie 2 / Dessins de Jean Simard\n",
      "Vingt ans après : suite des \"Trois mousquetaires\". 1 / par Alexandre Dumas\n",
      "Vingt ans après, suite des \"Trois mousquetaires\", par M. Alexandre Dumas\n",
      "Le Vicomte de Bragelonne, ou Dix ans plus tard. Tome 21 / , suite des \"Trois mousquetaires\" et de \"Vingt ans après\". [Histoire contemporaine.] Par Alexandre Dumas\n"
     ]
    }
   ],
   "source": [
    "for ark in bs_content.find_all(\"dc:title\"):\n",
    "    print(ark.get_text())"
   ]
  },
  {
   "cell_type": "code",
   "execution_count": null,
   "id": "verbal-gauge",
   "metadata": {},
   "outputs": [],
   "source": []
  }
 ],
 "metadata": {
  "colab": {
   "collapsed_sections": [],
   "name": "API_Gallica-Titanic.ipynb",
   "provenance": []
  },
  "kernelspec": {
   "display_name": "Python 3",
   "language": "python",
   "name": "python3"
  },
  "language_info": {
   "codemirror_mode": {
    "name": "ipython",
    "version": 3
   },
   "file_extension": ".py",
   "mimetype": "text/x-python",
   "name": "python",
   "nbconvert_exporter": "python",
   "pygments_lexer": "ipython3",
   "version": "3.8.7"
  }
 },
 "nbformat": 4,
 "nbformat_minor": 5
}
